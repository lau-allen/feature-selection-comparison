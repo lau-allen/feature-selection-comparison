{
  "cells": [
    {
      "cell_type": "markdown",
      "source": [
        "# HW04: Problem 3: Feature Selection\n",
        "\n",
        "## Description\n",
        "\n",
        "In this problem we will work with the diabetes dataset from sklearn. This data set is for a regression problem where 10 features are used to predict the progression of diabetes. The dataset is described in more detail [here](https://scikit-learn.org/stable/datasets/toy_dataset.html#diabetes-dataset). You task here is to use multiple techniques of feature selection to try to interpret the strength of the features in the dataset. You will need to use the following techniques:\n",
        "\n",
        "- Pearson correlation coefficient using r_regression from sklearn (univariate feature selection)\n",
        "- Mutual information using mutual_info_regression from sklearn (univariate feature selection)\n",
        "- Random forest feature importance using RandomForestRegressor from sklearn (multivariate feature selection)\n",
        "- Recursive feature elimination using sklearn.feature.selection.RFE with a Support Vector Regressor SVR (multivariate feature selection)\n",
        "\n",
        "For each method you will need to plot the feature importance as a bar graph. The importance goes by different names in different algorithms. For example, in r_regression it is just the output (r value) and the mutual information in mutual_info_regression. In random variable it is called feature_importance_ and in RFE it is the ranking_. The bar graph will be sorted from most important features to least important features, with the y value being the importance of that feature, and the x value being the rank but labeled with the feature name.\n",
        "You will also need to print out the top 5 features for each method. You will need to use the following code to load the data and split it into training and testing sets. You will need to use the training set for all of the feature selection methods.\n",
        "\n",
        "* Are there 3 features that are selected in the top 5 by all 4 methods? \n",
        "* If so, what are they? \n",
        "* If not, what are the 3 features that are selected by the most methods? \n",
        "* How would it be possible that univariate methods might select different features than multivariate methods? \n",
        "* How does dependence between features affect the feature selection methods?\n",
        "\n",
        "For good habits, make sure you split your code into training and testing. You may not even use the testing data but when you do any analysis such as feature selection, remember you must not use the testing data. You should also make sure you use the same random seed for all of your feature selection methods so that you can compare the results.\n",
        "\n",
        "## Hints: In sorting features you use \"arg\" sort. This will return the indices of the sorted array. You can use these indices to sort the feature names.\n",
        "\n",
        "This kind of code will be useful for plotting the bar graph:\n",
        "\n",
        "```python\n",
        "r_inds = np.argsort(np.abs(r_importance))[::-1]\n",
        "fig, ax = plt.subplots()\n",
        "rank = np.arange(len(data.feature_names))\n",
        "ax.bar(rank, r_importance[r_inds])\n",
        "ax.set_xticks(rank)\n",
        "ax.set_xticklabels(np.array(data.feature_names)[r_inds])\n",
        "```"
      ],
      "metadata": {},
      "id": "aa4a39cd-ed35-4ad8-aa61-28d8a420a3c1"
    },
    {
      "cell_type": "code",
      "source": [
        "# Some imports you will need\n",
        "import numpy as np\n",
        "from sklearn.datasets import load_diabetes\n",
        "from sklearn.model_selection import train_test_split\n",
        "from matplotlib import pyplot as plt\n",
        "from numpy import corrcoef\n",
        "import seaborn as sns\n",
        "from sklearn.feature_selection import r_regression\n",
        "from sklearn.feature_selection import mutual_info_regression\n",
        "from sklearn.feature_selection import RFE\n",
        "from sklearn.ensemble import RandomForestRegressor\n",
        "from sklearn.svm import SVR"
      ],
      "outputs": [],
      "execution_count": 71,
      "metadata": {},
      "id": "24211c5d-8831-4401-a941-1ae3c6e33e09"
    },
    {
      "cell_type": "markdown",
      "source": [
        "## Loading and preparing the data"
      ],
      "metadata": {},
      "id": "68bffa0c-62aa-4da5-a81a-db0992f58fe6"
    },
    {
      "cell_type": "code",
      "source": [
        "# Load the diabetes data set as X, y\n",
        "X, y = load_diabetes(return_X_y=True)\n",
        "# Load the diabetes data set as data to read the description\n",
        "data = load_diabetes()"
      ],
      "outputs": [],
      "execution_count": 2,
      "metadata": {},
      "id": "1cf42116-e3c2-4343-87e8-1e6c7986f51c"
    },
    {
      "cell_type": "code",
      "source": [
        "# Print out the DESCR attribute to inpect the variables"
      ],
      "outputs": [],
      "execution_count": 4,
      "metadata": {},
      "id": "6b91fa04-a015-402c-b439-dbbcd2638a1a"
    },
    {
      "cell_type": "code",
      "source": [
        "# Print the array of feature names"
      ],
      "outputs": [],
      "execution_count": null,
      "metadata": {},
      "id": "1b6f5d6f-4a81-4b97-9ca3-a15ac360e52e"
    },
    {
      "cell_type": "code",
      "source": [
        "# Split the Data into train/testing sets\n"
      ],
      "outputs": [],
      "execution_count": 9,
      "metadata": {},
      "id": "5130ef8b-7364-42c5-bfbe-abcabe5e5592"
    },
    {
      "cell_type": "code",
      "source": [
        "# Check the shapes"
      ],
      "outputs": [],
      "execution_count": 72,
      "metadata": {},
      "id": "8eb090c2-a531-4432-b10a-3192a0d25383"
    },
    {
      "cell_type": "code",
      "source": [
        "# Do a pair plot "
      ],
      "outputs": [],
      "execution_count": null,
      "metadata": {},
      "id": "f99a2c03-e007-491f-96cd-a13ff768a319"
    },
    {
      "cell_type": "markdown",
      "source": [
        "Q: What does the EDA tell you about the data?\n",
        "\n",
        "A Here: "
      ],
      "metadata": {},
      "id": "d9e62670-d3e4-4359-a24a-65161d4c61f1"
    },
    {
      "cell_type": "markdown",
      "source": [
        "## Univariate feature selection with r_regression"
      ],
      "metadata": {},
      "id": "4f40b553-b6f6-4fd7-866a-d00ac8875a7c"
    },
    {
      "cell_type": "code",
      "source": [
        "# Use r_regression to get the feature importance, sort by the absolute value\n",
        "# but show the signed value on y and label on x by variable name\n",
        "# Should be a bar graph\n"
      ],
      "outputs": [],
      "execution_count": 73,
      "metadata": {},
      "id": "8c54fe6d-df5f-4117-bf4a-5ec10f30274f"
    },
    {
      "cell_type": "code",
      "source": [
        "# print the top 5 features according to r_regression?\n"
      ],
      "outputs": [],
      "execution_count": null,
      "metadata": {},
      "id": "6c2289c4-a12c-4fec-b810-c31b12927459"
    },
    {
      "cell_type": "markdown",
      "source": [
        "## Univariate feature selection with mutual information using mutual_info_regression"
      ],
      "metadata": {},
      "id": "f727134c-16a5-406e-a19e-d0eebcf85348"
    },
    {
      "cell_type": "code",
      "source": [
        "# Use mutual_info_regression to get the feature importance, sort by the absolute value\n",
        "# but show the signed value on y and label on x by variable name\n",
        "# Should be a bar graph\n"
      ],
      "outputs": [],
      "execution_count": 74,
      "metadata": {},
      "id": "ce8e90e9-28be-4523-9517-17f9b7837c82"
    },
    {
      "cell_type": "code",
      "source": [
        "# What are the top 5 features according to mutual_info_regression?\n"
      ],
      "outputs": [],
      "execution_count": 55,
      "metadata": {},
      "id": "fa0b71bf-f413-48c8-833e-21ec48277f27"
    },
    {
      "cell_type": "markdown",
      "source": [
        "## Multivariate feature selection with Random Forest feature_importance_"
      ],
      "metadata": {},
      "id": "72fecc71-72fd-4f33-ac39-ad97d593983e"
    },
    {
      "cell_type": "code",
      "source": [
        "# Use random forest feature_importance_ to get the feature importance, sort by the absolute value\n",
        "# but show the signed value on y and label on x by variable name\n",
        "# Should be a bar graph\n"
      ],
      "outputs": [],
      "execution_count": 60,
      "metadata": {},
      "id": "592443ba-5f5f-4f48-9488-25eaeb699ce7"
    },
    {
      "cell_type": "code",
      "source": [
        "# What are the top 5 features according to random forest feature_importance_?\n"
      ],
      "outputs": [],
      "execution_count": 75,
      "metadata": {},
      "id": "fdb44bb7-c6e1-499e-863b-da7417152b3a"
    },
    {
      "cell_type": "markdown",
      "source": [
        "## Multivariate feature selection with recursive feature elimination (RFE) using a support vector regressor"
      ],
      "metadata": {},
      "id": "bf3e8967-a1ad-42e2-99b4-5119c4f2c0b6"
    },
    {
      "cell_type": "code",
      "source": [
        "# Use recursive feature elimination (RFE) with a support vector regressor \n",
        "# to get the feature importance, sort by the absolute value\n",
        "# but show the signed value on y and label on x by variable name\n",
        "# Should be a bar graph\n"
      ],
      "outputs": [],
      "execution_count": 76,
      "metadata": {},
      "id": "f1c92c89-8842-4b38-a3fd-b2413b7459f7"
    },
    {
      "cell_type": "code",
      "source": [
        "# What are the top 5 features according to RFE with SVR?"
      ],
      "outputs": [],
      "execution_count": 64,
      "metadata": {},
      "id": "f77104ef-bbf1-4788-8b3c-6077937cceb4"
    },
    {
      "cell_type": "markdown",
      "source": [
        "## Conclusions\n",
        "\n",
        "Q1: Are there 3 features that are selected in the top 5 by all 4 methods?\n",
        "\n",
        "A1: Your answer here\n",
        "\n",
        "Q2: If so, what are they? / If not, what are the 3 features that are selected by the most methods? \n",
        "\n",
        "A2: Your answer here\n",
        "\n",
        "Q3: How would it be possible that univariate methods might select different features than multivariate methods?\n",
        "\n",
        "A3: Your answer here\n",
        "\n",
        "Q4: How does dependence between features affect the feature selection methods?\n",
        "\n",
        "Q4: Your answer here"
      ],
      "metadata": {},
      "id": "2be0d412-fe5f-4d60-b45f-061669037e64"
    },
    {
      "cell_type": "code",
      "source": [],
      "outputs": [],
      "execution_count": null,
      "metadata": {},
      "id": "c1bc1277-1d2b-4d1a-848a-bd5e99ec4e2e"
    }
  ],
  "metadata": {
    "kernelspec": {
      "display_name": "Python 3 (ipykernel)",
      "language": "python",
      "name": "python3"
    },
    "language_info": {
      "codemirror_mode": {
        "name": "ipython",
        "version": 3
      },
      "file_extension": ".py",
      "mimetype": "text/x-python",
      "name": "python",
      "nbconvert_exporter": "python",
      "pygments_lexer": "ipython3",
      "version": "3.9.10"
    },
    "nteract": {
      "version": "0.28.0"
    }
  },
  "nbformat": 4,
  "nbformat_minor": 5
}